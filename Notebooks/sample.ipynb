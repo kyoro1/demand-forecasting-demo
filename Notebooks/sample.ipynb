{
 "cells": [
  {
   "cell_type": "code",
   "execution_count": null,
   "metadata": {},
   "outputs": [],
   "source": [
    "import datetime\n",
    "\n",
    "import pandas as pd\n",
    "\n",
    "from statsmodels.tsa.arima.model import ARIMA\n",
    "from sklearn.metrics import mean_squared_error\n",
    "\n",
    "## Use the sample data: https://docs.microsoft.com/ja-jp/azure/open-datasets/dataset-us-producer-price-index-commodities?tabs=azureml-opendatasets\n",
    "from azureml.opendatasets import UsLaborPPICommodity\n",
    "\n",
    "import warnings\n",
    "\n",
    "import matplotlib.pyplot as plt "
   ]
  },
  {
   "cell_type": "code",
   "execution_count": null,
   "metadata": {},
   "outputs": [],
   "source": [
    "## Data import\n",
    "labor = UsLaborPPICommodity()\n",
    "labor_df = labor.to_pandas_dataframe()"
   ]
  },
  {
   "cell_type": "code",
   "execution_count": null,
   "metadata": {},
   "outputs": [],
   "source": [
    "labor_df.head()"
   ]
  },
  {
   "cell_type": "code",
   "execution_count": null,
   "metadata": {},
   "outputs": [],
   "source": [
    "## Omit average period \"M13\"\n",
    "labor_df = labor_df[labor_df.period != 'M13']"
   ]
  },
  {
   "cell_type": "code",
   "execution_count": null,
   "metadata": {},
   "outputs": [],
   "source": [
    "labor_df.shape"
   ]
  },
  {
   "cell_type": "code",
   "execution_count": null,
   "metadata": {},
   "outputs": [],
   "source": [
    "## Extract month\n",
    "labor_df['period_num'] = labor_df['period'].apply(lambda x: int(x[1:]))\n",
    "## Assign Year-Month\n",
    "labor_df['yyyymm'] = labor_df[['year', 'period_num']].apply(lambda x: datetime.datetime(x[0],x[1], 1), axis=1)"
   ]
  },
  {
   "cell_type": "code",
   "execution_count": null,
   "metadata": {},
   "outputs": [],
   "source": [
    "## Designate specific code\n",
    "ItemCode = '120922'\n",
    "\n",
    "df_item = labor_df.query(\"item_code == @ItemCode\")\n",
    "\n",
    "plt.plot(df_item['yyyymm'], df_item['value'])\n",
    "plt.show()"
   ]
  },
  {
   "cell_type": "code",
   "execution_count": null,
   "metadata": {},
   "outputs": [],
   "source": [
    "## Define train-test split date\n",
    "train_date = '2016-12-31'\n",
    "\n",
    "## Split train and test data\n",
    "df_train, df_test= df_item[df_item.yyyymm <= train_date], df_item[df_item.yyyymm > train_date]\n",
    "\n",
    "## Check size\n",
    "print(df_train.shape, df_test.shape)"
   ]
  },
  {
   "cell_type": "code",
   "execution_count": null,
   "metadata": {},
   "outputs": [],
   "source": [
    "## Calculate mean squared error for each order\n",
    "def evaluate_arima_model(X_train, X_test, arima_order):\n",
    "\t# prepare training dataset\n",
    "\thistory = list(X_train.copy())\n",
    "\t# make predictions\n",
    "\tpredictions = []\n",
    "\tfor val in X_test:\n",
    "\t\tmodel = ARIMA(history, order=arima_order)\n",
    "\t\tmodel_fit = model.fit()\n",
    "\t\tyhat = model_fit.forecast()[0]\n",
    "\t\tpredictions.append(yhat)\n",
    "\t\thistory.append(val)\n",
    "\treturn mean_squared_error(X_test, predictions), predictions\n",
    "\n",
    "## Grid search for each order with ARIMA models\n",
    "def explore_min_mse(X_train, X_test, p_values, d_values, q_values):\n",
    "\tX_train, X_test = X_train.astype('float32'), X_test.astype('float32')\n",
    "\tfit_results = []\n",
    "\tfor p in p_values:\n",
    "\t\tfor d in d_values:\n",
    "\t\t\tfor q in q_values:\n",
    "\t\t\t\torder = (p, d, q)\n",
    "\t\t\t\ttry:\n",
    "\t\t\t\t\t## Model generation and evaluation for each order\n",
    "\t\t\t\t\tmse, predictions = evaluate_arima_model(X_train, X_test, order)\n",
    "\t\t\t\t\tfit_results.append([order, mse, predictions])\n",
    "\t\t\t\texcept:\n",
    "\t\t\t\t\tcontinue\n",
    "\treturn pd.DataFrame(fit_results, columns=['order', 'mse', 'predictions'])"
   ]
  },
  {
   "cell_type": "code",
   "execution_count": null,
   "metadata": {},
   "outputs": [],
   "source": [
    "## Define range of each parameter\n",
    "p_values = [0, 1, 2, 4, 6, 8, 10]\n",
    "d_values = range(0, 3)\n",
    "q_values = range(0, 3)\n",
    "\n",
    "## Train and test\n",
    "warnings.filterwarnings(\"ignore\")\n",
    "df_forecast_results = explore_min_mse(df_train.value, df_test.value, p_values, d_values, q_values)\n",
    "\n",
    "## Pick one candidate with the minimum errors\n",
    "best_predictions = df_forecast_results.sort_values('mse', ascending=True).head(1)['predictions']"
   ]
  },
  {
   "cell_type": "code",
   "execution_count": null,
   "metadata": {},
   "outputs": [],
   "source": [
    "df_future_values = df_test[['value', 'yyyymm']].copy()\n",
    "\n",
    "## Append predictive values\n",
    "df_future_values['pred_value'] = list(best_predictions)[0]\n"
   ]
  },
  {
   "cell_type": "code",
   "execution_count": null,
   "metadata": {},
   "outputs": [],
   "source": [
    "## Plot the result\n",
    "\n",
    "plt.figure(figsize=(8,6))\n",
    "plt.plot(df_train['yyyymm'], df_train['value'], label='training data')\n",
    "plt.plot(df_future_values['yyyymm'], df_future_values['value'],label=\"actual value\")\n",
    "plt.plot(df_future_values['yyyymm'], df_future_values['pred_value'],label=\"pred value\")\n",
    "plt.legend()\n",
    "plt.xlabel('date')\n",
    "plt.ylabel('values')\n",
    "plt.title('Forecasting sample for {}'.format(ItemCode))\n",
    "\n",
    "plt.show()"
   ]
  }
 ],
 "metadata": {
  "interpreter": {
   "hash": "23afad470d89bc8549bd0b3d55bac8634dd3201ad5afb6089cfe72f9a915797b"
  },
  "kernelspec": {
   "display_name": "Python 3",
   "language": "python",
   "name": "python3"
  },
  "language_info": {
   "codemirror_mode": {
    "name": "ipython",
    "version": 3
   },
   "file_extension": ".py",
   "mimetype": "text/x-python",
   "name": "python",
   "nbconvert_exporter": "python",
   "pygments_lexer": "ipython3",
   "version": "3.8.10"
  }
 },
 "nbformat": 4,
 "nbformat_minor": 2
}
